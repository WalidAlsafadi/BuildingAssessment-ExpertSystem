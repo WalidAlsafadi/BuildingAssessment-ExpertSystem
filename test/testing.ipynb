{
 "cells": [
  {
   "cell_type": "markdown",
   "metadata": {},
   "source": [
    "# <span style='color:dodgerBlue; font-weight:bold;'> Testing Scenarios </span>\n",
    "\n",
    "* **By Student**: Walid K. W. Alsafadi \n",
    "* **Course Name**: Expert Systems \n",
    "* **University**: University College of Applied Science \n",
    "* **Date**: December 27, 2024"
   ]
  },
  {
   "cell_type": "code",
   "execution_count": 1,
   "metadata": {},
   "outputs": [],
   "source": [
    "import sys\n",
    "import os\n",
    "\n",
    "# Add the src directory to the system path\n",
    "sys.path.append(os.path.abspath(\"../src\"))\n",
    "\n",
    "# Import the expert system\n",
    "from building_assessment_es import BuildingAssessment, BuildingAssessmentExpertSystem\n",
    "\n",
    "# Initialize the expert system\n",
    "engine = BuildingAssessmentExpertSystem()"
   ]
  },
  {
   "cell_type": "code",
   "execution_count": 2,
   "metadata": {},
   "outputs": [
    {
     "name": "stdout",
     "output_type": "stream",
     "text": [
      "\n",
      "--- Test: Severe SAR Damage ---\n",
      "Result: Severe Damage: Reconstruction Priority.\n",
      "\n",
      "--- Test: Moderate Cracks (Non-Load-Bearing) ---\n",
      "Result: Moderate: Repairs Suggested.\n",
      "\n",
      "--- Test: Large Crack (>20mm) ---\n",
      "Result: Severe: Immediate Repairs Required.\n",
      "\n",
      "--- Test: High Radiation ---\n",
      "Result: Prohibit rebuilding: Radiation level is 2.0 mSv/year.\n",
      "\n",
      "--- Test: Minefields Detected ---\n",
      "Result: Reconstruction Delayed: Minefields or unexploded ordnance detected.\n",
      "\n",
      "--- Test: Temporary Housing Needed ---\n",
      "Result: High Priority: Provide temporary shelter for displaced residents.\n",
      "\n",
      "--- Test: Outdated Building Design ---\n",
      "Result: Recommend retrofitting for outdated building design.\n",
      "\n",
      "--- Test: Combined Scenario: Severe SAR and Overcrowding ---\n",
      "Result: High Priority: Reconstruction due to overcrowding.\n",
      "Result: Severe Damage: Reconstruction Priority.\n",
      "\n",
      "--- Test: Complex Scenario: Hazardous Zone and Vulnerable Population ---\n",
      "Result: High Priority: Houses vulnerable populations (e.g., elderly, children).\n",
      "Result: High Risk: Reconstruction Delayed.\n"
     ]
    }
   ],
   "source": [
    "# Test each rule individually\n",
    "def test_rule(title, facts):\n",
    "    print(f\"\\n--- Test: {title} ---\")\n",
    "    engine.reset()  # Reset the system for a fresh start\n",
    "    for fact in facts:\n",
    "        engine.declare(fact)  # Declare the provided facts\n",
    "    engine.run()  # Run the inference engine\n",
    "\n",
    "    # Print resulting actions\n",
    "    for fact in engine.facts.values():\n",
    "        if fact.get('action'):  # Check if the fact represents an action\n",
    "            print(f\"Result: {fact['action']}\")\n",
    "\n",
    "# Individual Tests\n",
    "test_rule(\"Severe SAR Damage\", [BuildingAssessment(sar_backscatter=True)])\n",
    "test_rule(\"Moderate Cracks (Non-Load-Bearing)\", [BuildingAssessment(cracks=\"moderate\")])\n",
    "test_rule(\"Large Crack (>20mm)\", [BuildingAssessment(load_bearing_cracks=True, crack_width=25.0)])\n",
    "test_rule(\"High Radiation\", [BuildingAssessment(radiation_level=2.0)])\n",
    "test_rule(\"Minefields Detected\", [BuildingAssessment(unexploded_ordnance=True)])\n",
    "test_rule(\"Temporary Housing Needed\", [BuildingAssessment(temporary_shelter_needed=True)])\n",
    "test_rule(\"Outdated Building Design\", [BuildingAssessment(outdated_design=True)])\n",
    "\n",
    "# Combined Scenario\n",
    "test_rule(\n",
    "    \"Combined Scenario: Severe SAR and Overcrowding\",\n",
    "    [\n",
    "        BuildingAssessment(sar_backscatter=True),\n",
    "        BuildingAssessment(overcrowding=True),\n",
    "    ],\n",
    ")\n",
    "\n",
    "# Complex Scenario with Conflicts\n",
    "test_rule(\n",
    "    \"Complex Scenario: Hazardous Zone and Vulnerable Population\",\n",
    "    [\n",
    "        BuildingAssessment(hazardous_zone=True),\n",
    "        BuildingAssessment(vulnerable_population=True),\n",
    "    ],\n",
    ")"
   ]
  },
  {
   "cell_type": "code",
   "execution_count": 3,
   "metadata": {},
   "outputs": [
    {
     "name": "stdout",
     "output_type": "stream",
     "text": [
      "\n",
      "--- Test 2: Load-Bearing Cracks ---\n",
      "Result: Severe: Immediate Repairs Required.\n"
     ]
    }
   ],
   "source": [
    "print(\"\\n--- Test 2: Load-Bearing Cracks ---\")\n",
    "engine.reset()\n",
    "engine.declare(BuildingAssessment(load_bearing_cracks=True))\n",
    "engine.run()\n",
    "\n",
    "# Print the results (inferred actions)\n",
    "for fact in engine.facts.values():\n",
    "    if fact.get('action'):  # Check if the fact is an action\n",
    "        print(f\"Result: {fact['action']}\")"
   ]
  },
  {
   "cell_type": "code",
   "execution_count": 4,
   "metadata": {},
   "outputs": [
    {
     "name": "stdout",
     "output_type": "stream",
     "text": [
      "\n",
      "--- Test 3: Moderate Cracks ---\n",
      "Result: Moderate: Repairs Suggested.\n"
     ]
    }
   ],
   "source": [
    "print(\"\\n--- Test 3: Moderate Cracks ---\")\n",
    "engine.reset()\n",
    "engine.declare(BuildingAssessment(cracks='moderate'))\n",
    "engine.run()\n",
    "\n",
    "# Print the results (inferred actions)\n",
    "for fact in engine.facts.values():\n",
    "    if fact.get('action'):  # Check if the fact is an action\n",
    "        print(f\"Result: {fact['action']}\")"
   ]
  },
  {
   "cell_type": "code",
   "execution_count": 5,
   "metadata": {},
   "outputs": [
    {
     "name": "stdout",
     "output_type": "stream",
     "text": [
      "\n",
      "--- Test 4: Minor Cracks ---\n",
      "Result: Minor Damage: Routine Repairs.\n"
     ]
    }
   ],
   "source": [
    "print(\"\\n--- Test 4: Minor Cracks ---\")\n",
    "engine.reset()\n",
    "engine.declare(BuildingAssessment(cracks='minor'))\n",
    "engine.run()\n",
    "\n",
    "# Print the results (inferred actions)\n",
    "for fact in engine.facts.values():\n",
    "    if fact.get('action'):  # Check if the fact is an action\n",
    "        print(f\"Result: {fact['action']}\")"
   ]
  },
  {
   "cell_type": "code",
   "execution_count": 6,
   "metadata": {},
   "outputs": [
    {
     "name": "stdout",
     "output_type": "stream",
     "text": [
      "\n",
      "--- Test 5: Overcrowding ---\n",
      "Result: High Priority: Reconstruction due to overcrowding.\n"
     ]
    }
   ],
   "source": [
    "print(\"\\n--- Test 5: Overcrowding ---\")\n",
    "engine.reset()\n",
    "engine.declare(BuildingAssessment(overcrowding=True))\n",
    "engine.run()\n",
    "\n",
    "# Print the results (inferred actions)\n",
    "for fact in engine.facts.values():\n",
    "    if fact.get('action'):  # Check if the fact is an action\n",
    "        print(f\"Result: {fact['action']}\")"
   ]
  },
  {
   "cell_type": "code",
   "execution_count": 7,
   "metadata": {},
   "outputs": [
    {
     "name": "stdout",
     "output_type": "stream",
     "text": [
      "\n",
      "--- Test 6: Hazardous Zone ---\n",
      "Result: High Risk: Reconstruction Delayed.\n"
     ]
    }
   ],
   "source": [
    "print(\"\\n--- Test 6: Hazardous Zone ---\")\n",
    "engine.reset()\n",
    "engine.declare(BuildingAssessment(hazardous_zone=True))\n",
    "engine.run()\n",
    "\n",
    "# Print the results (inferred actions)\n",
    "for fact in engine.facts.values():\n",
    "    if fact.get('action'):  # Check if the fact is an action\n",
    "        print(f\"Result: {fact['action']}\")"
   ]
  },
  {
   "cell_type": "code",
   "execution_count": 8,
   "metadata": {},
   "outputs": [
    {
     "name": "stdout",
     "output_type": "stream",
     "text": [
      "\n",
      "--- Test 7: Critical Infrastructure ---\n",
      "Result: Critical Priority: Near critical infrastructure (e.g., hospitals, schools).\n"
     ]
    }
   ],
   "source": [
    "print(\"\\n--- Test 7: Critical Infrastructure ---\")\n",
    "engine.reset()\n",
    "engine.declare(BuildingAssessment(critical_infrastructure=True))\n",
    "engine.run()\n",
    "\n",
    "# Print the results (inferred actions)\n",
    "for fact in engine.facts.values():\n",
    "    if fact.get('action'):  # Check if the fact is an action\n",
    "        print(f\"Result: {fact['action']}\")"
   ]
  },
  {
   "cell_type": "code",
   "execution_count": 9,
   "metadata": {},
   "outputs": [
    {
     "name": "stdout",
     "output_type": "stream",
     "text": [
      "\n",
      "--- Test 8: Vulnerable Population ---\n",
      "Result: High Priority: Houses vulnerable populations (e.g., elderly, children).\n"
     ]
    }
   ],
   "source": [
    "print(\"\\n--- Test 8: Vulnerable Population ---\")\n",
    "engine.reset()\n",
    "engine.declare(BuildingAssessment(vulnerable_population=True))\n",
    "engine.run()\n",
    "\n",
    "# Print the results (inferred actions)\n",
    "for fact in engine.facts.values():\n",
    "    if fact.get('action'):  # Check if the fact is an action\n",
    "        print(f\"Result: {fact['action']}\")"
   ]
  },
  {
   "cell_type": "code",
   "execution_count": 10,
   "metadata": {},
   "outputs": [
    {
     "name": "stdout",
     "output_type": "stream",
     "text": [
      "\n",
      "--- Test 9: Income Below Poverty Threshold ---\n",
      "Result: High Priority: Income below poverty threshold.\n"
     ]
    }
   ],
   "source": [
    "print(\"\\n--- Test 9: Income Below Poverty Threshold ---\")\n",
    "engine.reset()\n",
    "engine.declare(BuildingAssessment(income_below_poverty=True))\n",
    "engine.run()\n",
    "\n",
    "# Print the results (inferred actions)\n",
    "for fact in engine.facts.values():\n",
    "    if fact.get('action'):  # Check if the fact is an action\n",
    "        print(f\"Result: {fact['action']}\")"
   ]
  },
  {
   "cell_type": "code",
   "execution_count": 11,
   "metadata": {},
   "outputs": [
    {
     "name": "stdout",
     "output_type": "stream",
     "text": [
      "\n",
      "--- Test 10: Contaminated Materials ---\n",
      "Result: Reconstruction Delayed: Contaminated materials detected, remediation required.\n"
     ]
    }
   ],
   "source": [
    "print(\"\\n--- Test 10: Contaminated Materials ---\")\n",
    "engine.reset()\n",
    "engine.declare(BuildingAssessment(contaminated_materials=True))\n",
    "engine.run()\n",
    "\n",
    "# Print the results (inferred actions)\n",
    "for fact in engine.facts.values():\n",
    "    if fact.get('action'):  # Check if the fact is an action\n",
    "        print(f\"Result: {fact['action']}\")"
   ]
  },
  {
   "cell_type": "code",
   "execution_count": 12,
   "metadata": {},
   "outputs": [
    {
     "name": "stdout",
     "output_type": "stream",
     "text": [
      "\n",
      "--- Test 11: Renewable Energy Possible ---\n",
      "Result: Recommendation: Integrate renewable energy systems for sustainable rebuilding.\n"
     ]
    }
   ],
   "source": [
    "print(\"\\n--- Test 11: Renewable Energy Possible ---\")\n",
    "engine.reset()\n",
    "engine.declare(BuildingAssessment(renewable_energy_possible=True))\n",
    "engine.run()\n",
    "\n",
    "# Print the results (inferred actions)\n",
    "for fact in engine.facts.values():\n",
    "    if fact.get('action'):  # Check if the fact is an action\n",
    "        print(f\"Result: {fact['action']}\")"
   ]
  },
  {
   "cell_type": "code",
   "execution_count": 13,
   "metadata": {},
   "outputs": [
    {
     "name": "stdout",
     "output_type": "stream",
     "text": [
      "\n",
      "--- Test 12: Road Inaccessibility ---\n",
      "Result: Reconstruction Delayed: Clear road access before rebuilding.\n"
     ]
    }
   ],
   "source": [
    "print(\"\\n--- Test 12: Road Inaccessibility ---\")\n",
    "engine.reset()\n",
    "engine.declare(BuildingAssessment(road_inaccessibility=True))\n",
    "engine.run()\n",
    "\n",
    "# Print the results (inferred actions)\n",
    "for fact in engine.facts.values():\n",
    "    if fact.get('action'):  # Check if the fact is an action\n",
    "        print(f\"Result: {fact['action']}\")"
   ]
  },
  {
   "cell_type": "code",
   "execution_count": 14,
   "metadata": {},
   "outputs": [
    {
     "name": "stdout",
     "output_type": "stream",
     "text": [
      "\n",
      "--- Test 13: Temporary Shelter Needed ---\n",
      "Result: High Priority: Provide temporary shelter for displaced residents.\n"
     ]
    }
   ],
   "source": [
    "print(\"\\n--- Test 13: Temporary Shelter Needed ---\")\n",
    "engine.reset()\n",
    "engine.declare(BuildingAssessment(temporary_shelter_needed=True))\n",
    "engine.run()\n",
    "\n",
    "# Print the results (inferred actions)\n",
    "for fact in engine.facts.values():\n",
    "    if fact.get('action'):  # Check if the fact is an action\n",
    "        print(f\"Result: {fact['action']}\")"
   ]
  }
 ],
 "metadata": {
  "kernelspec": {
   "display_name": "tf",
   "language": "python",
   "name": "python3"
  },
  "language_info": {
   "codemirror_mode": {
    "name": "ipython",
    "version": 3
   },
   "file_extension": ".py",
   "mimetype": "text/x-python",
   "name": "python",
   "nbconvert_exporter": "python",
   "pygments_lexer": "ipython3",
   "version": "3.10.13"
  }
 },
 "nbformat": 4,
 "nbformat_minor": 2
}
